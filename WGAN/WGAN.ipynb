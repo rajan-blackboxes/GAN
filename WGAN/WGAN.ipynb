{
 "cells": [
  {
   "cell_type": "markdown",
   "metadata": {},
   "source": [
    "# Imports"
   ]
  },
  {
   "cell_type": "code",
   "execution_count": 13,
   "metadata": {
    "id": "LoBTMqgLel7X"
   },
   "outputs": [],
   "source": [
    "import torch\n",
    "import numpy as np\n",
    "import pandas as pd\n",
    "import torch.nn as nn\n",
    "import torch.nn.functional as F\n",
    "import matplotlib.pyplot as plt\n",
    "import torchvision\n",
    "from torchvision import datasets\n",
    "from torch.utils.data import DataLoader\n",
    "from torchvision import transforms\n",
    "from tqdm import tqdm_notebook as tqdm\n",
    "import torch.optim as optim\n",
    "from torchvision.utils import make_grid\n",
    "from helpers import upconv, conv, get_noise, train, build_dataloader\n",
    "from loss import *\n",
    "\n",
    "device = 'cuda'"
   ]
  },
  {
   "cell_type": "markdown",
   "metadata": {
    "id": "PO87KlVqel7o"
   },
   "source": [
    "# Models"
   ]
  },
  {
   "cell_type": "code",
   "execution_count": 18,
   "metadata": {
    "id": "EbaN3fIhel7w"
   },
   "outputs": [],
   "source": [
    "class Generator(nn.Module):\n",
    "    def __init__(self,z_dim, im_chan=3, activation_func=nn.ReLU()):\n",
    "        super(Generator, self).__init__()\n",
    "        self.z_dim = z_dim\n",
    "        self.dropout = nn.Dropout(0.4)\n",
    "        self.activation_func = activation_func\n",
    "        self.upconv1 = upconv(64, 32, up=True, mode='nearest')\n",
    "        self.upconv2 = upconv(32, 16,  up=True)\n",
    "        self.upconv3 = upconv(16, 4,   up=True, scale_factor=4)\n",
    "        self.upconv4 = upconv(4, 3,  up=True, scale_factor=4)\n",
    "        self.upconv5 = upconv(3, 3,  up=True)\n",
    "        self.upconv6 = upconv(3, 3,  batch_norm=False)\n",
    "    \n",
    "    def forward(self, noise):\n",
    "        x = noise.view(len(noise), self.z_dim, 1, 1)\n",
    "        \n",
    "        x = self.upconv1(x)\n",
    "        x = self.activation_func(x)\n",
    "    \n",
    "        x = self.upconv2(x)\n",
    "        x = self.activation_func(x)\n",
    "        \n",
    "        x = self.upconv3(x)\n",
    "        x = x + self.activation_func(x)\n",
    "        \n",
    "        x = self.upconv4(x)\n",
    "        x = x + self.activation_func(x)\n",
    "        \n",
    "        x = self.upconv5(x)\n",
    "        x = self.activation_func(x)\n",
    "        \n",
    "        x = self.upconv6(x)\n",
    "        return x"
   ]
  },
  {
   "cell_type": "code",
   "execution_count": 4,
   "metadata": {
    "id": "cJpWfYIWel71"
   },
   "outputs": [],
   "source": [
    "class Critic(nn.Module):\n",
    "    \n",
    "    def __init__(self, im_chan=3, activation_func=nn.ReLU()):\n",
    "        super(Critic, self).__init__()\n",
    "        self.activation_func = activation_func\n",
    "        self.conv1 = conv(im_chan, 16, kernel_size=1, padding=0,batch_norm=False)\n",
    "        self.conv2 = conv(16, 16, kernel_size=1,  stride=1, padding=0)\n",
    "        \n",
    "        self.conv3 = conv(16, 32, kernel_size=4)\n",
    "        self.conv4 = conv(32, 32, kernel_size=1, stride=1, padding=0)\n",
    "        \n",
    "        self.conv5 = conv(32, 64, kernel_size=4)\n",
    "        self.conv6 = conv(64, 64, kernel_size=1, stride=1, padding=0)\n",
    "        \n",
    "        \n",
    "        self.conv7 = conv(64, 128, kernel_size=3, stride=2, padding=2)\n",
    "        self.conv8 = conv(128, 128, kernel_size=1, stride=1, padding=0)\n",
    "        \n",
    "        \n",
    "        self.conv9 = conv(128, 128, kernel_size=1, stride=3)\n",
    "        \n",
    "        self.conv10 =conv(128, 1, kernel_size=4, stride=3, batch_norm=False)\n",
    "        \n",
    "    def forward(self, x):\n",
    "        x = self.conv1(x)\n",
    "        x = self.activation_func(x)\n",
    "        x = x + self.conv2(x)\n",
    "        \n",
    "        x = self.conv3(x)\n",
    "        x = self.activation_func(x)\n",
    "        x = x + self.conv4(x)\n",
    "        \n",
    "        x = self.conv5(x)\n",
    "        x = self.activation_func(x)\n",
    "        x = x + self.conv6(x)\n",
    "        \n",
    "        x = self.conv7(x)\n",
    "        x = self.activation_func(x)\n",
    "        \n",
    "        x = self.conv8(x)\n",
    "        x = self.activation_func(x)\n",
    "        \n",
    "        x = self.conv9(x)\n",
    "        x = self.activation_func(x)\n",
    "        \n",
    "        x = self.conv10(x)\n",
    "        return x.view(len(x), -1)"
   ]
  },
  {
   "cell_type": "markdown",
   "metadata": {},
   "source": [
    "# Hyperparameters"
   ]
  },
  {
   "cell_type": "code",
   "execution_count": 9,
   "metadata": {
    "id": "hWS7Aajjel8L"
   },
   "outputs": [],
   "source": [
    "FILES_PATH = \"/home/workspace/data/img_align_celeba\"\n",
    "LEARNING_RATE = 0.0002\n",
    "BATCH = 256\n",
    "Z_DIM= 64\n",
    "BETA_1 = 0.5\n",
    "BETA_2 = 0.999\n",
    "C_LAMBDA = 10"
   ]
  },
  {
   "cell_type": "markdown",
   "metadata": {},
   "source": [
    "# Build Network"
   ]
  },
  {
   "cell_type": "code",
   "execution_count": 10,
   "metadata": {
    "id": "5RoCa2awel8H",
    "scrolled": true
   },
   "outputs": [],
   "source": [
    "def build_network(gpu=True):\n",
    "    \"\"\"\n",
    "    Builds network    \n",
    "    \"\"\"\n",
    "    # try to change activation between two generator and critic\n",
    "    G = Generator(z_dim=Z_DIM, activation_func=nn.ReLU())\n",
    "    C = Critic(activation_func=nn.ReLU())\n",
    "    if gpu:\n",
    "        G = Generator(z_dim=Z_DIM, activation_func=nn.ReLU()).cuda()\n",
    "        C = Critic(activation_func=nn.ReLU()).cuda()\n",
    "\n",
    "    def weight_init(m):\n",
    "        if isinstance(m, nn.Conv2d):\n",
    "            nn.init.normal_(m.weight, 0.0, 0.02)\n",
    "        if isinstance(m, nn.BatchNorm2d):\n",
    "            nn.init.normal_(m.weight, 0.0, 0.02)\n",
    "            nn.init.constant_(m.bias, 0)\n",
    "    G.apply(weight_init)\n",
    "    C.apply(weight_init)\n",
    "    return G, C"
   ]
  },
  {
   "cell_type": "markdown",
   "metadata": {},
   "source": [
    "# Initialize Network and Optimizers"
   ]
  },
  {
   "cell_type": "code",
   "execution_count": 14,
   "metadata": {
    "id": "DlMqjjXYhLhI",
    "scrolled": true
   },
   "outputs": [],
   "source": [
    "G, C = build_network()\n",
    "G_opt = optim.Adam(G.parameters(), lr=LEARNING_RATE, betas=(BETA_1, BETA_2))\n",
    "C_opt = optim.Adam(C.parameters(), lr=LEARNING_RATE, betas=(BETA_1, BETA_2))\n",
    "\n",
    "data_loader = build_dataloader(FILES_PATH, batch=BATCH)"
   ]
  },
  {
   "cell_type": "markdown",
   "metadata": {},
   "source": [
    "# Train"
   ]
  },
  {
   "cell_type": "code",
   "execution_count": 23,
   "metadata": {
    "id": "ygT10z3Jkfqe",
    "scrolled": true
   },
   "outputs": [],
   "source": [
    "train(data_loader,\n",
    "      G, C,\n",
    "      G_opt, C_opt,\n",
    "      n_epochs = 1,\n",
    "      device = 'cuda',\n",
    "      critic_repeat = 1,\n",
    "      gen_repeat = 1,\n",
    "      display_step = 500,\n",
    "      z_dim = Z_DIM,\n",
    "      c_lambda = C_LAMBDA\n",
    "     )"
   ]
  },
  {
   "cell_type": "markdown",
   "metadata": {},
   "source": [
    "# Test <p hidden>😎</p>"
   ]
  },
  {
   "cell_type": "code",
   "execution_count": 16,
   "metadata": {},
   "outputs": [],
   "source": [
    "G.load_state_dict(torch.load('G.pth'))"
   ]
  },
  {
   "cell_type": "code",
   "execution_count": null,
   "metadata": {},
   "outputs": [],
   "source": [
    "def generate_images(gen_model, no_of_images, num_images=5):\n",
    "    gen_model = gen_model.eval()\n",
    "    with torch.no_grad():\n",
    "        show_tensor_images(gen_model(get_noise(no_of_images, 64)), num_images=num_images)"
   ]
  },
  {
   "cell_type": "code",
   "execution_count": 17,
   "metadata": {},
   "outputs": [],
   "source": [
    "generate_images(G, no_of_images=1, num_images=1)"
   ]
  },
  {
   "cell_type": "code",
   "execution_count": null,
   "metadata": {},
   "outputs": [],
   "source": []
  },
  {
   "cell_type": "code",
   "execution_count": null,
   "metadata": {},
   "outputs": [],
   "source": []
  },
  {
   "cell_type": "code",
   "execution_count": null,
   "metadata": {},
   "outputs": [],
   "source": []
  },
  {
   "cell_type": "code",
   "execution_count": null,
   "metadata": {},
   "outputs": [],
   "source": []
  }
 ],
 "metadata": {
  "accelerator": "GPU",
  "colab": {
   "collapsed_sections": [],
   "name": "wgan_gp_practice.ipynb",
   "provenance": []
  },
  "kernelspec": {
   "display_name": "Python 3",
   "language": "python",
   "name": "python3"
  },
  "language_info": {
   "codemirror_mode": {
    "name": "ipython",
    "version": 3
   },
   "file_extension": ".py",
   "mimetype": "text/x-python",
   "name": "python",
   "nbconvert_exporter": "python",
   "pygments_lexer": "ipython3",
   "version": "3.8.5"
  }
 },
 "nbformat": 4,
 "nbformat_minor": 1
}
